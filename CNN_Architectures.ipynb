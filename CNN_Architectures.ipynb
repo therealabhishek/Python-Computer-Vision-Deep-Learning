{
 "cells": [
  {
   "cell_type": "markdown",
   "metadata": {
    "id": "FmwY2wYWcDQ-"
   },
   "source": [
    "**OBJECTIVE**:  THE OBJECTIVE OF THIS EXRECISE IS TO APPLY DIFFERENT CNN ARCHITECTURES ON THE DATASET AND OBSERVE THE PERFORMANCE"
   ]
  },
  {
   "cell_type": "code",
   "execution_count": null,
   "metadata": {
    "colab": {
     "base_uri": "https://localhost:8080/",
     "height": 34
    },
    "id": "qiMSs1PzZKF4",
    "outputId": "7104189e-2d85-4887-da5c-5a96d72a4bcd"
   },
   "outputs": [
    {
     "name": "stderr",
     "output_type": "stream",
     "text": [
      "Using TensorFlow backend.\n"
     ]
    }
   ],
   "source": [
    "# Importing the required libraries\n",
    "\n",
    "from __future__ import print_function\n",
    "import keras\n",
    "from keras.utils import np_utils\n",
    "from keras.datasets import mnist\n",
    "import seaborn as sns\n",
    "from keras.initializers import he_normal\n",
    "\n",
    "from keras.models import Sequential\n",
    "from keras.layers import Dense, Dropout, Flatten,BatchNormalization\n",
    "from keras.layers import Conv2D, MaxPooling2D\n",
    "from keras import backend as K"
   ]
  },
  {
   "cell_type": "code",
   "execution_count": null,
   "metadata": {
    "id": "ApGKzyvgkZpU"
   },
   "outputs": [],
   "source": [
    "# We want our plots to be updated dynamically hence, we will create a function for the same\n",
    "\n",
    "%matplotlib inline\n",
    "%matplotlib notebook\n",
    "\n",
    "# Importing the required libraries\n",
    "import matplotlib.pyplot as plt\n",
    "import numpy as np\n",
    "import time\n",
    "\n",
    "# this function is used to update the plots for each epoch and error\n",
    "def plt_dynamic(x, vy, ty, ax, colors=['b']):\n",
    "    ax.plot(x, vy, 'b', label=\"Test Loss\")\n",
    "    ax.plot(x, ty, 'r', label=\"Train Loss\")\n",
    "    plt.legend()\n",
    "    plt.grid()\n",
    "    fig.canvas.draw()"
   ]
  },
  {
   "cell_type": "code",
   "execution_count": null,
   "metadata": {
    "id": "pI8HKG6hk0gG"
   },
   "outputs": [],
   "source": [
    "# Setting the model parameters\n",
    "\n",
    "batch_size = 128\n",
    "num_classes = 10\n",
    "epochs = 20"
   ]
  },
  {
   "cell_type": "code",
   "execution_count": null,
   "metadata": {
    "id": "OBd8nSZNk0pK"
   },
   "outputs": [],
   "source": [
    "# Importing the data and storing the input image dimensions\n",
    "\n",
    "# input image dimensions\n",
    "img_rows, img_cols = 28, 28\n",
    "\n",
    "# the data, split between train and test sets\n",
    "(x_train, y_train), (x_test, y_test) = mnist.load_data()"
   ]
  },
  {
   "cell_type": "code",
   "execution_count": null,
   "metadata": {
    "id": "f3FkSelFk02k"
   },
   "outputs": [],
   "source": [
    "# Deciding the input data format\n",
    "\n",
    "if K.image_data_format() == 'channels_first':\n",
    "    x_train = x_train.reshape(x_train.shape[0], 1, img_rows, img_cols)\n",
    "    x_test = x_test.reshape(x_test.shape[0], 1, img_rows, img_cols)\n",
    "    input_shape = (1, img_rows, img_cols)\n",
    "else:\n",
    "    x_train = x_train.reshape(x_train.shape[0], img_rows, img_cols, 1)\n",
    "    x_test = x_test.reshape(x_test.shape[0], img_rows, img_cols, 1)\n",
    "    input_shape = (img_rows, img_cols, 1)"
   ]
  },
  {
   "cell_type": "code",
   "execution_count": null,
   "metadata": {
    "colab": {
     "base_uri": "https://localhost:8080/",
     "height": 68
    },
    "id": "afCg6q7bk0-p",
    "outputId": "15f8d93d-8494-44c3-c9d6-68c18187d207"
   },
   "outputs": [
    {
     "name": "stdout",
     "output_type": "stream",
     "text": [
      "x_train shape: (60000, 28, 28, 1)\n",
      "60000 train samples\n",
      "10000 test samples\n"
     ]
    }
   ],
   "source": [
    "# Normalizing the data and looking at the data dimensions\n",
    "\n",
    "x_train = x_train.astype('float32')\n",
    "x_test = x_test.astype('float32')\n",
    "x_train /= 255\n",
    "x_test /= 255\n",
    "print('x_train shape:', x_train.shape)\n",
    "print(x_train.shape[0], 'train samples')\n",
    "print(x_test.shape[0], 'test samples')"
   ]
  },
  {
   "cell_type": "code",
   "execution_count": null,
   "metadata": {
    "id": "U1485kb-k1GK"
   },
   "outputs": [],
   "source": [
    "# Converting the class vectors to binary class matrices\n",
    "\n",
    "y_train = keras.utils.to_categorical(y_train, num_classes)\n",
    "y_test = keras.utils.to_categorical(y_test, num_classes)"
   ]
  },
  {
   "cell_type": "code",
   "execution_count": null,
   "metadata": {
    "id": "Vu5D6jQ3y5cQ"
   },
   "outputs": [],
   "source": []
  },
  {
   "cell_type": "code",
   "execution_count": null,
   "metadata": {
    "colab": {
     "base_uri": "https://localhost:8080/",
     "height": 1448
    },
    "id": "pbCU6oSvqnyy",
    "outputId": "6548b717-66e5-4669-950f-08adeb53b45b"
   },
   "outputs": [
    {
     "name": "stderr",
     "output_type": "stream",
     "text": [
      "/usr/local/lib/python3.6/dist-packages/ipykernel_launcher.py:12: UserWarning: Update your `Conv2D` call to the Keras 2 API: `Conv2D(64, kernel_size=(3, 3), activation=\"relu\", padding=\"same\")`\n",
      "  if sys.path[0] == '':\n",
      "/usr/local/lib/python3.6/dist-packages/ipykernel_launcher.py:18: UserWarning: Update your `Conv2D` call to the Keras 2 API: `Conv2D(64, kernel_size=(3, 3), activation=\"relu\", padding=\"same\")`\n"
     ]
    },
    {
     "name": "stdout",
     "output_type": "stream",
     "text": [
      "_________________________________________________________________\n",
      "Layer (type)                 Output Shape              Param #   \n",
      "=================================================================\n",
      "conv2d_1 (Conv2D)            (None, 28, 28, 64)        640       \n",
      "_________________________________________________________________\n",
      "batch_normalization_1 (Batch (None, 28, 28, 64)        256       \n",
      "_________________________________________________________________\n",
      "dropout_1 (Dropout)          (None, 28, 28, 64)        0         \n",
      "_________________________________________________________________\n",
      "conv2d_2 (Conv2D)            (None, 28, 28, 64)        36928     \n",
      "_________________________________________________________________\n",
      "batch_normalization_2 (Batch (None, 28, 28, 64)        256       \n",
      "_________________________________________________________________\n",
      "max_pooling2d_1 (MaxPooling2 (None, 14, 14, 64)        0         \n",
      "_________________________________________________________________\n",
      "dropout_2 (Dropout)          (None, 14, 14, 64)        0         \n",
      "_________________________________________________________________\n",
      "conv2d_3 (Conv2D)            (None, 14, 14, 64)        36928     \n",
      "_________________________________________________________________\n",
      "batch_normalization_3 (Batch (None, 14, 14, 64)        256       \n",
      "_________________________________________________________________\n",
      "max_pooling2d_2 (MaxPooling2 (None, 7, 7, 64)          0         \n",
      "_________________________________________________________________\n",
      "dropout_3 (Dropout)          (None, 7, 7, 64)          0         \n",
      "_________________________________________________________________\n",
      "flatten_1 (Flatten)          (None, 3136)              0         \n",
      "_________________________________________________________________\n",
      "dense_1 (Dense)              (None, 128)               401536    \n",
      "_________________________________________________________________\n",
      "dropout_4 (Dropout)          (None, 128)               0         \n",
      "_________________________________________________________________\n",
      "dense_2 (Dense)              (None, 10)                1290      \n",
      "=================================================================\n",
      "Total params: 478,090\n",
      "Trainable params: 477,706\n",
      "Non-trainable params: 384\n",
      "_________________________________________________________________\n",
      "Train on 60000 samples, validate on 10000 samples\n",
      "Epoch 1/20\n",
      "60000/60000 [==============================] - 21s 355us/step - loss: 0.3061 - acc: 0.9265 - val_loss: 0.0572 - val_acc: 0.9826\n",
      "Epoch 2/20\n",
      "60000/60000 [==============================] - 20s 326us/step - loss: 0.0818 - acc: 0.9781 - val_loss: 0.0577 - val_acc: 0.9840\n",
      "Epoch 3/20\n",
      "60000/60000 [==============================] - 20s 327us/step - loss: 0.0648 - acc: 0.9833 - val_loss: 0.0459 - val_acc: 0.9886\n",
      "Epoch 4/20\n",
      "60000/60000 [==============================] - 20s 326us/step - loss: 0.0576 - acc: 0.9853 - val_loss: 0.0400 - val_acc: 0.9886\n",
      "Epoch 5/20\n",
      "60000/60000 [==============================] - 20s 326us/step - loss: 0.0528 - acc: 0.9868 - val_loss: 0.0309 - val_acc: 0.9908\n",
      "Epoch 6/20\n",
      "60000/60000 [==============================] - 20s 326us/step - loss: 0.0473 - acc: 0.9880 - val_loss: 0.0358 - val_acc: 0.9917\n",
      "Epoch 7/20\n",
      "60000/60000 [==============================] - 20s 326us/step - loss: 0.0438 - acc: 0.9891 - val_loss: 0.0297 - val_acc: 0.9917\n",
      "Epoch 8/20\n",
      "60000/60000 [==============================] - 20s 326us/step - loss: 0.0413 - acc: 0.9901 - val_loss: 0.0311 - val_acc: 0.9916\n",
      "Epoch 9/20\n",
      "60000/60000 [==============================] - 20s 326us/step - loss: 0.0397 - acc: 0.9905 - val_loss: 0.0281 - val_acc: 0.9932\n",
      "Epoch 10/20\n",
      "60000/60000 [==============================] - 20s 325us/step - loss: 0.0354 - acc: 0.9914 - val_loss: 0.0309 - val_acc: 0.9922\n",
      "Epoch 11/20\n",
      "60000/60000 [==============================] - 20s 326us/step - loss: 0.0348 - acc: 0.9914 - val_loss: 0.0479 - val_acc: 0.9922\n",
      "Epoch 12/20\n",
      "60000/60000 [==============================] - 20s 326us/step - loss: 0.0332 - acc: 0.9919 - val_loss: 0.0316 - val_acc: 0.9925\n",
      "Epoch 13/20\n",
      "60000/60000 [==============================] - 20s 326us/step - loss: 0.0327 - acc: 0.9920 - val_loss: 0.0253 - val_acc: 0.9936\n",
      "Epoch 14/20\n",
      "60000/60000 [==============================] - 20s 326us/step - loss: 0.0301 - acc: 0.9927 - val_loss: 0.0398 - val_acc: 0.9931\n",
      "Epoch 15/20\n",
      "60000/60000 [==============================] - 20s 326us/step - loss: 0.0295 - acc: 0.9925 - val_loss: 0.0444 - val_acc: 0.9921\n",
      "Epoch 16/20\n",
      "60000/60000 [==============================] - 20s 325us/step - loss: 0.0286 - acc: 0.9932 - val_loss: 0.0409 - val_acc: 0.9916\n",
      "Epoch 17/20\n",
      "60000/60000 [==============================] - 20s 326us/step - loss: 0.0274 - acc: 0.9930 - val_loss: 0.0263 - val_acc: 0.9940\n",
      "Epoch 18/20\n",
      "60000/60000 [==============================] - 20s 325us/step - loss: 0.0265 - acc: 0.9932 - val_loss: 0.0239 - val_acc: 0.9944\n",
      "Epoch 19/20\n",
      "60000/60000 [==============================] - 19s 324us/step - loss: 0.0263 - acc: 0.9931 - val_loss: 0.0290 - val_acc: 0.9935\n",
      "Epoch 20/20\n",
      "60000/60000 [==============================] - 19s 324us/step - loss: 0.0267 - acc: 0.9933 - val_loss: 0.0369 - val_acc: 0.9935\n",
      "Test loss: 0.03685156847698756\n",
      "Test accuracy: 0.9935\n"
     ]
    }
   ],
   "source": [
    "# We will build our first architecture using 3X3 kernels having three concolution layers\n",
    "\n",
    "#Start Neural Network\n",
    "model = Sequential()\n",
    "\n",
    "#convolution 1st layer\n",
    "model.add(Conv2D(64, kernel_size=(3, 3), padding=\"same\",\n",
    "                 activation='relu',\n",
    "                 input_shape=input_shape)) \n",
    "model.add(BatchNormalization())\n",
    "model.add(Dropout(0.25))\n",
    "#model.add(MaxPooling2D())\n",
    "\n",
    "#convolution 2nd layer\n",
    "model.add(Conv2D(64, kernel_size=(3, 3), activation='relu',border_mode=\"same\"))\n",
    "model.add(BatchNormalization())\n",
    "model.add(MaxPooling2D()) # default 2 x 2\n",
    "model.add(Dropout(0.25))\n",
    "\n",
    "#convolution 3rd layer\n",
    "model.add(Conv2D(64, kernel_size=(3, 3), activation='relu',border_mode=\"same\"))\n",
    "model.add(BatchNormalization())\n",
    "model.add(MaxPooling2D()) # default 2 x 2\n",
    "model.add(Dropout(0.25))\n",
    "\n",
    "#Fully connected 1st layer\n",
    "model.add(Flatten()) \n",
    "model.add(Dense(128,activation = 'relu')) \n",
    "model.add(Dropout(0.25))      \n",
    "\n",
    "#Fully connected final layer\n",
    "model.add(Dense(10, activation = 'softmax')) \n",
    "\n",
    "\n",
    "model.compile(loss=keras.losses.categorical_crossentropy,\n",
    "              optimizer=keras.optimizers.RMSprop(),\n",
    "              metrics=['accuracy'])\n",
    "\n",
    "model.summary()\n",
    "\n",
    "#Save Model=ON\n",
    "history = model.fit(x_train, y_train,\n",
    "          batch_size=batch_size,\n",
    "          epochs=epochs,\n",
    "          verbose=1,\n",
    "          validation_data=(x_test, y_test))\n",
    "\n",
    "score = model.evaluate(x_test, y_test, verbose=0)\n",
    "\n",
    "#print loss and accuracy\n",
    "print('Test loss:', score[0])\n",
    "print('Test accuracy:', score[1])"
   ]
  },
  {
   "cell_type": "code",
   "execution_count": null,
   "metadata": {
    "colab": {
     "base_uri": "https://localhost:8080/",
     "height": 279
    },
    "id": "XXVqjl17qokX",
    "outputId": "6f7b3622-1f1d-4045-a827-248199f44149"
   },
   "outputs": [
    {
     "data": {
      "image/png": "[encoded data removed]",
      "text/plain": [
       "<Figure size 432x288 with 1 Axes>"
      ]
     },
     "metadata": {
      "tags": []
     },
     "output_type": "display_data"
    }
   ],
   "source": [
    "%matplotlib inline\n",
    "fig,ax = plt.subplots(1,1)\n",
    "ax.set_xlabel('epoch') ; ax.set_ylabel('Categorical Crossentropy Loss')\n",
    "\n",
    "# list of epoch numbers\n",
    "x = list(range(1,epochs+1))\n",
    "\n",
    "# print(history.history.keys())\n",
    "# dict_keys(['val_loss', 'val_acc', 'loss', 'acc'])\n",
    "# history = model_drop.fit(X_train, Y_train, batch_size=batch_size, epochs=nb_epoch, verbose=1, validation_data=(X_test, Y_test))\n",
    "\n",
    "# we will get val_loss and val_acc only when you pass the paramter validation_data\n",
    "# val_loss : validation loss\n",
    "# val_acc : validation accuracy\n",
    "\n",
    "# loss : training loss\n",
    "# acc : train accuracy\n",
    "# for each key in histrory.histrory we will have a list of length equal to number of epochs\n",
    "\n",
    "\n",
    "vy = history.history['val_loss']\n",
    "ty = history.history['loss']\n",
    "plt_dynamic(x, vy, ty, ax)\n",
    "\n",
    "\n",
    "# From the figure below we can see that the model has learnt the train data as well as the test data very well.\n"
   ]
  },
  {
   "cell_type": "code",
   "execution_count": null,
   "metadata": {
    "colab": {
     "base_uri": "https://localhost:8080/",
     "height": 1720
    },
    "id": "Q1k_qCtTqoyy",
    "outputId": "3b93bf59-4713-47ab-b7fd-d3f9250db0ae"
   },
   "outputs": [
    {
     "name": "stderr",
     "output_type": "stream",
     "text": [
      "/usr/local/lib/python3.6/dist-packages/ipykernel_launcher.py:12: UserWarning: Update your `Conv2D` call to the Keras 2 API: `Conv2D(32, kernel_size=(5, 5), activation=\"relu\", padding=\"same\")`\n",
      "  if sys.path[0] == '':\n",
      "/usr/local/lib/python3.6/dist-packages/ipykernel_launcher.py:18: UserWarning: Update your `Conv2D` call to the Keras 2 API: `Conv2D(64, kernel_size=(5, 5), activation=\"relu\", padding=\"same\")`\n",
      "/usr/local/lib/python3.6/dist-packages/ipykernel_launcher.py:24: UserWarning: Update your `Conv2D` call to the Keras 2 API: `Conv2D(64, kernel_size=(5, 5), activation=\"relu\", padding=\"same\")`\n",
      "/usr/local/lib/python3.6/dist-packages/ipykernel_launcher.py:30: UserWarning: Update your `Conv2D` call to the Keras 2 API: `Conv2D(64, kernel_size=(5, 5), activation=\"relu\", padding=\"same\")`\n"
     ]
    },
    {
     "name": "stdout",
     "output_type": "stream",
     "text": [
      "_________________________________________________________________\n",
      "Layer (type)                 Output Shape              Param #   \n",
      "=================================================================\n",
      "conv2d_4 (Conv2D)            (None, 28, 28, 32)        832       \n",
      "_________________________________________________________________\n",
      "batch_normalization_4 (Batch (None, 28, 28, 32)        128       \n",
      "_________________________________________________________________\n",
      "dropout_5 (Dropout)          (None, 28, 28, 32)        0         \n",
      "_________________________________________________________________\n",
      "conv2d_5 (Conv2D)            (None, 28, 28, 32)        25632     \n",
      "_________________________________________________________________\n",
      "batch_normalization_5 (Batch (None, 28, 28, 32)        128       \n",
      "_________________________________________________________________\n",
      "max_pooling2d_3 (MaxPooling2 (None, 14, 14, 32)        0         \n",
      "_________________________________________________________________\n",
      "dropout_6 (Dropout)          (None, 14, 14, 32)        0         \n",
      "_________________________________________________________________\n",
      "conv2d_6 (Conv2D)            (None, 14, 14, 64)        51264     \n",
      "_________________________________________________________________\n",
      "batch_normalization_6 (Batch (None, 14, 14, 64)        256       \n",
      "_________________________________________________________________\n",
      "max_pooling2d_4 (MaxPooling2 (None, 7, 7, 64)          0         \n",
      "_________________________________________________________________\n",
      "conv2d_7 (Conv2D)            (None, 7, 7, 64)          102464    \n",
      "_________________________________________________________________\n",
      "batch_normalization_7 (Batch (None, 7, 7, 64)          256       \n",
      "_________________________________________________________________\n",
      "max_pooling2d_5 (MaxPooling2 (None, 3, 3, 64)          0         \n",
      "_________________________________________________________________\n",
      "dropout_7 (Dropout)          (None, 3, 3, 64)          0         \n",
      "_________________________________________________________________\n",
      "conv2d_8 (Conv2D)            (None, 3, 3, 64)          102464    \n",
      "_________________________________________________________________\n",
      "batch_normalization_8 (Batch (None, 3, 3, 64)          256       \n",
      "_________________________________________________________________\n",
      "max_pooling2d_6 (MaxPooling2 (None, 1, 1, 64)          0         \n",
      "_________________________________________________________________\n",
      "dropout_8 (Dropout)          (None, 1, 1, 64)          0         \n",
      "_________________________________________________________________\n",
      "flatten_2 (Flatten)          (None, 64)                0         \n",
      "_________________________________________________________________\n",
      "dense_3 (Dense)              (None, 128)               8320      \n",
      "_________________________________________________________________\n",
      "dropout_9 (Dropout)          (None, 128)               0         \n",
      "_________________________________________________________________\n",
      "dense_4 (Dense)              (None, 10)                1290      \n",
      "=================================================================\n",
      "Total params: 293,290\n",
      "Trainable params: 292,778\n",
      "Non-trainable params: 512\n",
      "_________________________________________________________________\n",
      "Train on 60000 samples, validate on 10000 samples\n",
      "Epoch 1/20\n",
      "60000/60000 [==============================] - 17s 291us/step - loss: 0.2225 - acc: 0.9323 - val_loss: 0.0474 - val_acc: 0.9870\n",
      "Epoch 2/20\n",
      "60000/60000 [==============================] - 16s 267us/step - loss: 0.0596 - acc: 0.9826 - val_loss: 0.0266 - val_acc: 0.9915\n",
      "Epoch 3/20\n",
      "60000/60000 [==============================] - 16s 268us/step - loss: 0.0441 - acc: 0.9874 - val_loss: 0.0255 - val_acc: 0.9927\n",
      "Epoch 4/20\n",
      "60000/60000 [==============================] - 16s 268us/step - loss: 0.0357 - acc: 0.9900 - val_loss: 0.0267 - val_acc: 0.9927\n",
      "Epoch 5/20\n",
      "60000/60000 [==============================] - 16s 267us/step - loss: 0.0302 - acc: 0.9914 - val_loss: 0.0249 - val_acc: 0.9933\n",
      "Epoch 6/20\n",
      "60000/60000 [==============================] - 16s 266us/step - loss: 0.0263 - acc: 0.9928 - val_loss: 0.0220 - val_acc: 0.9942\n",
      "Epoch 7/20\n",
      "60000/60000 [==============================] - 16s 267us/step - loss: 0.0253 - acc: 0.9929 - val_loss: 0.0212 - val_acc: 0.9938\n",
      "Epoch 8/20\n",
      "60000/60000 [==============================] - 16s 267us/step - loss: 0.0209 - acc: 0.9941 - val_loss: 0.0202 - val_acc: 0.9950\n",
      "Epoch 9/20\n",
      "60000/60000 [==============================] - 16s 269us/step - loss: 0.0204 - acc: 0.9940 - val_loss: 0.0219 - val_acc: 0.9954\n",
      "Epoch 10/20\n",
      "60000/60000 [==============================] - 16s 266us/step - loss: 0.0175 - acc: 0.9949 - val_loss: 0.0353 - val_acc: 0.9925\n",
      "Epoch 11/20\n",
      "60000/60000 [==============================] - 16s 267us/step - loss: 0.0183 - acc: 0.9950 - val_loss: 0.0237 - val_acc: 0.9936\n",
      "Epoch 12/20\n",
      "60000/60000 [==============================] - 16s 267us/step - loss: 0.0158 - acc: 0.9958 - val_loss: 0.0243 - val_acc: 0.9944\n",
      "Epoch 13/20\n",
      "60000/60000 [==============================] - 16s 268us/step - loss: 0.0148 - acc: 0.9957 - val_loss: 0.0198 - val_acc: 0.9955\n",
      "Epoch 14/20\n",
      "60000/60000 [==============================] - 16s 267us/step - loss: 0.0130 - acc: 0.9962 - val_loss: 0.0311 - val_acc: 0.9935\n",
      "Epoch 15/20\n",
      "60000/60000 [==============================] - 16s 267us/step - loss: 0.0129 - acc: 0.9965 - val_loss: 0.0287 - val_acc: 0.9945\n",
      "Epoch 16/20\n",
      "60000/60000 [==============================] - 16s 267us/step - loss: 0.0129 - acc: 0.9967 - val_loss: 0.0212 - val_acc: 0.9953\n",
      "Epoch 17/20\n",
      "60000/60000 [==============================] - 16s 267us/step - loss: 0.0117 - acc: 0.9970 - val_loss: 0.0224 - val_acc: 0.9958\n",
      "Epoch 18/20\n",
      "60000/60000 [==============================] - 16s 268us/step - loss: 0.0121 - acc: 0.9968 - val_loss: 0.0203 - val_acc: 0.9956\n",
      "Epoch 19/20\n",
      "60000/60000 [==============================] - 16s 268us/step - loss: 0.0112 - acc: 0.9971 - val_loss: 0.0243 - val_acc: 0.9947\n",
      "Epoch 20/20\n",
      "60000/60000 [==============================] - 16s 268us/step - loss: 0.0104 - acc: 0.9972 - val_loss: 0.0252 - val_acc: 0.9952\n",
      "Test loss: 0.02520119354490046\n",
      "Test accuracy: 0.9952\n"
     ]
    }
   ],
   "source": [
    "# We will build our second architecture using 5X5 kernels having five convolution layers\n",
    "\n",
    "#Start Neural Network\n",
    "model1 = Sequential()\n",
    "\n",
    "#convolution 1st layer\n",
    "model1.add(Conv2D(32, kernel_size=(5, 5), padding=\"same\",\n",
    "                 activation='relu',\n",
    "                 input_shape=input_shape)) \n",
    "model1.add(BatchNormalization())\n",
    "model1.add(Dropout(0.25))\n",
    "#model.add(MaxPooling2D())\n",
    "\n",
    "#convolution 2nd layer\n",
    "model1.add(Conv2D(32, kernel_size=(5, 5), activation='relu',border_mode=\"same\"))\n",
    "model1.add(BatchNormalization())\n",
    "model1.add(MaxPooling2D()) # default 2 x 2\n",
    "model1.add(Dropout(0.25))\n",
    "\n",
    "#convolution 3rd layer\n",
    "model1.add(Conv2D(64, kernel_size=(5, 5), activation='relu',border_mode=\"same\"))\n",
    "model1.add(BatchNormalization())\n",
    "model1.add(MaxPooling2D()) # default 2 x 2\n",
    "#model1.add(Dropout(0.25))\n",
    "\n",
    "#convolution 4th layer\n",
    "model1.add(Conv2D(64, kernel_size=(5, 5), activation='relu',border_mode=\"same\"))\n",
    "model1.add(BatchNormalization())\n",
    "model1.add(MaxPooling2D()) # default 2 x 2\n",
    "model1.add(Dropout(0.25))\n",
    "\n",
    "#convolution 5th layer\n",
    "model1.add(Conv2D(64, kernel_size=(5, 5), activation='relu',border_mode=\"same\"))\n",
    "model1.add(BatchNormalization())\n",
    "model1.add(MaxPooling2D()) # default 2 x 2\n",
    "model1.add(Dropout(0.25))\n",
    "\n",
    "#Fully connected 1st layer\n",
    "model1.add(Flatten()) \n",
    "model1.add(Dense(128,activation = 'relu')) \n",
    "model1.add(Dropout(0.25))      \n",
    "\n",
    "#Fully connected final layer\n",
    "model1.add(Dense(10, activation = 'softmax')) \n",
    "\n",
    "\n",
    "model1.compile(loss=keras.losses.categorical_crossentropy,\n",
    "              optimizer=keras.optimizers.RMSprop(),\n",
    "              metrics=['accuracy'])\n",
    "\n",
    "model1.summary()\n",
    "\n",
    "#Save Model=ON\n",
    "history = model1.fit(x_train, y_train,\n",
    "          batch_size=batch_size,\n",
    "          epochs=epochs,\n",
    "          verbose=1,\n",
    "          validation_data=(x_test, y_test))\n",
    "\n",
    "score = model1.evaluate(x_test, y_test, verbose=0)\n",
    "\n",
    "#print loss and accuracy\n",
    "print('Test loss:', score[0])\n",
    "print('Test accuracy:', score[1])"
   ]
  },
  {
   "cell_type": "code",
   "execution_count": null,
   "metadata": {
    "colab": {
     "base_uri": "https://localhost:8080/",
     "height": 279
    },
    "id": "HXxt3F4Xqo7O",
    "outputId": "bf027456-02cd-4c11-c8cf-8fd20bf6f0b8"
   },
   "outputs": [
    {
     "data": {
      "image/png": "[encoded data removed]",
      "text/plain": [
       "<Figure size 432x288 with 1 Axes>"
      ]
     },
     "metadata": {
      "tags": []
     },
     "output_type": "display_data"
    }
   ],
   "source": [
    "%matplotlib inline\n",
    "fig,ax = plt.subplots(1,1)\n",
    "ax.set_xlabel('epoch') ; ax.set_ylabel('Categorical Crossentropy Loss')\n",
    "\n",
    "# list of epoch numbers\n",
    "x = list(range(1,epochs+1))\n",
    "\n",
    "# print(history.history.keys())\n",
    "# dict_keys(['val_loss', 'val_acc', 'loss', 'acc'])\n",
    "# history = model_drop.fit(X_train, Y_train, batch_size=batch_size, epochs=nb_epoch, verbose=1, validation_data=(X_test, Y_test))\n",
    "\n",
    "# we will get val_loss and val_acc only when you pass the paramter validation_data\n",
    "# val_loss : validation loss\n",
    "# val_acc : validation accuracy\n",
    "\n",
    "# loss : training loss\n",
    "# acc : train accuracy\n",
    "# for each key in histrory.histrory we will have a list of length equal to number of epochs\n",
    "\n",
    "\n",
    "vy = history.history['val_loss']\n",
    "ty = history.history['loss']\n",
    "plt_dynamic(x, vy, ty, ax)\n",
    "\n",
    "\n",
    "# From the figure below we can see that the model has learnt the train data as well as the test data very well."
   ]
  },
  {
   "cell_type": "code",
   "execution_count": null,
   "metadata": {
    "colab": {
     "base_uri": "https://localhost:8080/",
     "height": 1751
    },
    "id": "wn5UepRuqpDG",
    "outputId": "42e4f75f-7d5e-4472-abf9-2f9905f7e409"
   },
   "outputs": [
    {
     "name": "stdout",
     "output_type": "stream",
     "text": [
      "_________________________________________________________________\n",
      "Layer (type)                 Output Shape              Param #   \n",
      "=================================================================\n",
      "conv2d_9 (Conv2D)            (None, 28, 28, 32)        1600      \n",
      "_________________________________________________________________\n",
      "batch_normalization_9 (Batch (None, 28, 28, 32)        128       \n",
      "_________________________________________________________________\n",
      "dropout_10 (Dropout)         (None, 28, 28, 32)        0         \n",
      "_________________________________________________________________\n",
      "conv2d_10 (Conv2D)           (None, 28, 28, 32)        50208     \n",
      "_________________________________________________________________\n",
      "batch_normalization_10 (Batc (None, 28, 28, 32)        128       \n",
      "_________________________________________________________________\n",
      "max_pooling2d_7 (MaxPooling2 (None, 14, 14, 32)        0         \n",
      "_________________________________________________________________\n",
      "dropout_11 (Dropout)         (None, 14, 14, 32)        0         \n",
      "_________________________________________________________________\n",
      "conv2d_11 (Conv2D)           (None, 14, 14, 32)        50208     \n",
      "_________________________________________________________________\n",
      "batch_normalization_11 (Batc (None, 14, 14, 32)        128       \n",
      "_________________________________________________________________\n",
      "max_pooling2d_8 (MaxPooling2 (None, 7, 7, 32)          0         \n",
      "_________________________________________________________________\n",
      "conv2d_12 (Conv2D)           (None, 7, 7, 64)          100416    \n",
      "_________________________________________________________________\n",
      "batch_normalization_12 (Batc (None, 7, 7, 64)          256       \n",
      "_________________________________________________________________\n",
      "max_pooling2d_9 (MaxPooling2 (None, 3, 3, 64)          0         \n",
      "_________________________________________________________________\n",
      "dropout_12 (Dropout)         (None, 3, 3, 64)          0         \n",
      "_________________________________________________________________\n",
      "conv2d_13 (Conv2D)           (None, 3, 3, 64)          200768    \n",
      "_________________________________________________________________\n",
      "batch_normalization_13 (Batc (None, 3, 3, 64)          256       \n",
      "_________________________________________________________________\n",
      "max_pooling2d_10 (MaxPooling (None, 1, 1, 64)          0         \n",
      "_________________________________________________________________\n",
      "conv2d_14 (Conv2D)           (None, 1, 1, 64)          200768    \n",
      "_________________________________________________________________\n",
      "batch_normalization_14 (Batc (None, 1, 1, 64)          256       \n",
      "_________________________________________________________________\n",
      "dropout_13 (Dropout)         (None, 1, 1, 64)          0         \n",
      "_________________________________________________________________\n",
      "conv2d_15 (Conv2D)           (None, 1, 1, 64)          200768    \n",
      "_________________________________________________________________\n",
      "batch_normalization_15 (Batc (None, 1, 1, 64)          256       \n",
      "_________________________________________________________________\n",
      "flatten_3 (Flatten)          (None, 64)                0         \n",
      "_________________________________________________________________\n",
      "dense_5 (Dense)              (None, 128)               8320      \n",
      "_________________________________________________________________\n",
      "dropout_14 (Dropout)         (None, 128)               0         \n",
      "_________________________________________________________________\n",
      "dense_6 (Dense)              (None, 10)                1290      \n",
      "=================================================================\n",
      "Total params: 815,754\n",
      "Trainable params: 815,050\n",
      "Non-trainable params: 704\n",
      "_________________________________________________________________\n",
      "Train on 60000 samples, validate on 10000 samples\n",
      "Epoch 1/20\n",
      "60000/60000 [==============================] - 25s 412us/step - loss: 0.2042 - acc: 0.9407 - val_loss: 0.0982 - val_acc: 0.9766\n",
      "Epoch 2/20\n",
      "60000/60000 [==============================] - 23s 379us/step - loss: 0.0703 - acc: 0.9807 - val_loss: 0.0502 - val_acc: 0.9868\n",
      "Epoch 3/20\n",
      "60000/60000 [==============================] - 23s 379us/step - loss: 0.0514 - acc: 0.9864 - val_loss: 0.0456 - val_acc: 0.9877\n",
      "Epoch 4/20\n",
      "60000/60000 [==============================] - 23s 378us/step - loss: 0.0407 - acc: 0.9884 - val_loss: 0.0285 - val_acc: 0.9918\n",
      "Epoch 5/20\n",
      "60000/60000 [==============================] - 23s 379us/step - loss: 0.0359 - acc: 0.9909 - val_loss: 0.0298 - val_acc: 0.9925\n",
      "Epoch 6/20\n",
      "60000/60000 [==============================] - 23s 380us/step - loss: 0.0328 - acc: 0.9914 - val_loss: 0.0327 - val_acc: 0.9916\n",
      "Epoch 7/20\n",
      "60000/60000 [==============================] - 23s 379us/step - loss: 0.0279 - acc: 0.9929 - val_loss: 0.0383 - val_acc: 0.9913\n",
      "Epoch 8/20\n",
      "60000/60000 [==============================] - 23s 379us/step - loss: 0.0247 - acc: 0.9933 - val_loss: 0.0263 - val_acc: 0.9943\n",
      "Epoch 9/20\n",
      "60000/60000 [==============================] - 23s 380us/step - loss: 0.0244 - acc: 0.9937 - val_loss: 0.0278 - val_acc: 0.9942\n",
      "Epoch 10/20\n",
      "60000/60000 [==============================] - 23s 379us/step - loss: 0.0201 - acc: 0.9948 - val_loss: 0.0377 - val_acc: 0.9923\n",
      "Epoch 11/20\n",
      "60000/60000 [==============================] - 23s 379us/step - loss: 0.0225 - acc: 0.9952 - val_loss: 0.0284 - val_acc: 0.9945\n",
      "Epoch 12/20\n",
      "60000/60000 [==============================] - 23s 379us/step - loss: 0.0194 - acc: 0.9950 - val_loss: 0.0293 - val_acc: 0.9940\n",
      "Epoch 13/20\n",
      "60000/60000 [==============================] - 23s 378us/step - loss: 0.0166 - acc: 0.9957 - val_loss: 0.0339 - val_acc: 0.9934\n",
      "Epoch 14/20\n",
      "60000/60000 [==============================] - 23s 379us/step - loss: 0.0181 - acc: 0.9960 - val_loss: 0.0340 - val_acc: 0.9928\n",
      "Epoch 15/20\n",
      "60000/60000 [==============================] - 23s 379us/step - loss: 0.0168 - acc: 0.9954 - val_loss: 0.0311 - val_acc: 0.9928\n",
      "Epoch 16/20\n",
      "60000/60000 [==============================] - 23s 378us/step - loss: 0.0167 - acc: 0.9961 - val_loss: 0.0339 - val_acc: 0.9943\n",
      "Epoch 17/20\n",
      "60000/60000 [==============================] - 23s 379us/step - loss: 0.0145 - acc: 0.9963 - val_loss: 0.0329 - val_acc: 0.9930\n",
      "Epoch 18/20\n",
      "60000/60000 [==============================] - 23s 378us/step - loss: 0.0142 - acc: 0.9965 - val_loss: 0.0411 - val_acc: 0.9937\n",
      "Epoch 19/20\n",
      "60000/60000 [==============================] - 23s 378us/step - loss: 0.0119 - acc: 0.9969 - val_loss: 0.0342 - val_acc: 0.9935\n",
      "Epoch 20/20\n",
      "60000/60000 [==============================] - 23s 379us/step - loss: 0.0138 - acc: 0.9965 - val_loss: 0.0329 - val_acc: 0.9942\n",
      "Test loss: 0.03291345782960268\n",
      "Test accuracy: 0.9942\n"
     ]
    }
   ],
   "source": [
    "# We will build our third architecture using 2X2 kernels having seven convolution layers\n",
    "\n",
    "#Start Neural Network\n",
    "model2 = Sequential()\n",
    "\n",
    "#convolution 1st layer\n",
    "model2.add(Conv2D(32, kernel_size=(7, 7), padding=\"same\",\n",
    "                 activation='relu',\n",
    "                 input_shape=input_shape)) \n",
    "model2.add(BatchNormalization())\n",
    "model2.add(Dropout(0.25))\n",
    "#model.add(MaxPooling2D())\n",
    "\n",
    "#convolution 2nd layer\n",
    "model2.add(Conv2D(32, kernel_size=(7, 7), activation='relu',padding=\"same\"))\n",
    "model2.add(BatchNormalization())\n",
    "model2.add(MaxPooling2D(pool_size=(2,2))) # default 2 x 2\n",
    "model2.add(Dropout(0.25))\n",
    "\n",
    "#convolution 3rd layer\n",
    "model2.add(Conv2D(32, kernel_size=(7, 7), activation='relu',padding=\"same\"))\n",
    "model2.add(BatchNormalization())\n",
    "model2.add(MaxPooling2D(pool_size=(2,2))) # default 2 x 2\n",
    "#model1.add(Dropout(0.25))\n",
    "\n",
    "#convolution 4th layer\n",
    "model2.add(Conv2D(64, kernel_size=(7, 7), activation='relu',padding=\"same\"))\n",
    "model2.add(BatchNormalization())\n",
    "model2.add(MaxPooling2D(pool_size=(2,2))) # default 2 x 2\n",
    "model2.add(Dropout(0.25))\n",
    "\n",
    "#convolution 5th layer\n",
    "model2.add(Conv2D(64, kernel_size=(7, 7), activation='relu',padding=\"same\"))\n",
    "model2.add(BatchNormalization())\n",
    "model2.add(MaxPooling2D(pool_size=(2,2))) # default 2 x 2\n",
    "#model2.add(Dropout(0.25))\n",
    "\n",
    "#convolution 6th layer\n",
    "model2.add(Conv2D(64, kernel_size=(7, 7), activation='relu',padding=\"same\"))\n",
    "model2.add(BatchNormalization())\n",
    "#model2.add(MaxPooling2D(pool_size=(2,2))) # default 2 x 2\n",
    "model2.add(Dropout(0.25))\n",
    "\n",
    "#convolution 7th layer\n",
    "model2.add(Conv2D(64, kernel_size=(7, 7), activation='relu',padding=\"same\"))\n",
    "model2.add(BatchNormalization())\n",
    "#model2.add(MaxPooling2D(pool_size=(2,2))) # default 2 x 2\n",
    "#model2.add(Dropout(0.25))\n",
    "\n",
    "#Fully connected 1st layer\n",
    "model2.add(Flatten()) \n",
    "model2.add(Dense(128,activation = 'relu')) \n",
    "model2.add(Dropout(0.25))      \n",
    "\n",
    "#Fully connected final layer\n",
    "model2.add(Dense(10, activation = 'softmax')) \n",
    "\n",
    "\n",
    "model2.compile(loss=keras.losses.categorical_crossentropy,\n",
    "              optimizer=keras.optimizers.RMSprop(),\n",
    "              metrics=['accuracy'])\n",
    "\n",
    "model2.summary()\n",
    "\n",
    "#Save Model=ON\n",
    "history = model2.fit(x_train, y_train,\n",
    "          batch_size=batch_size,\n",
    "          epochs=epochs,\n",
    "          verbose=1,\n",
    "          validation_data=(x_test, y_test))\n",
    "\n",
    "score = model2.evaluate(x_test, y_test, verbose=0)\n",
    "\n",
    "#print loss and accuracy\n",
    "print('Test loss:', score[0])\n",
    "print('Test accuracy:', score[1])"
   ]
  },
  {
   "cell_type": "code",
   "execution_count": null,
   "metadata": {
    "colab": {
     "base_uri": "https://localhost:8080/",
     "height": 279
    },
    "id": "mGb0M80s82bV",
    "outputId": "402fa4d4-de2b-4132-8966-13a3495ce983"
   },
   "outputs": [
    {
     "data": {
      "image/png": "[encoded data removed]",
      "text/plain": [
       "<Figure size 432x288 with 1 Axes>"
      ]
     },
     "metadata": {
      "tags": []
     },
     "output_type": "display_data"
    }
   ],
   "source": [
    "%matplotlib inline\n",
    "fig,ax = plt.subplots(1,1)\n",
    "ax.set_xlabel('epoch') ; ax.set_ylabel('Categorical Crossentropy Loss')\n",
    "\n",
    "# list of epoch numbers\n",
    "x = list(range(1,epochs+1))\n",
    "\n",
    "# print(history.history.keys())\n",
    "# dict_keys(['val_loss', 'val_acc', 'loss', 'acc'])\n",
    "# history = model_drop.fit(X_train, Y_train, batch_size=batch_size, epochs=nb_epoch, verbose=1, validation_data=(X_test, Y_test))\n",
    "\n",
    "# we will get val_loss and val_acc only when you pass the paramter validation_data\n",
    "# val_loss : validation loss\n",
    "# val_acc : validation accuracy\n",
    "\n",
    "# loss : training loss\n",
    "# acc : train accuracy\n",
    "# for each key in histrory.histrory we will have a list of length equal to number of epochs\n",
    "\n",
    "\n",
    "vy = history.history['val_loss']\n",
    "ty = history.history['loss']\n",
    "plt_dynamic(x, vy, ty, ax)\n",
    "\n",
    "\n",
    "# From the figure below we can see that the model has learnt the train data as well as the test data very well."
   ]
  },
  {
   "cell_type": "code",
   "execution_count": null,
   "metadata": {
    "colab": {
     "base_uri": "https://localhost:8080/",
     "height": 153
    },
    "id": "rx7tdXKr82mT",
    "outputId": "7d30d469-31aa-4ac5-e100-b2f989e13992"
   },
   "outputs": [
    {
     "name": "stdout",
     "output_type": "stream",
     "text": [
      "The scores for the different CNN architectures are:\n",
      "+------------------------------+----------------------+----------+\n",
      "|       CNN Architecture       | Multi-Class log loss | Accuracy |\n",
      "+------------------------------+----------------------+----------+\n",
      "| CNN w/ 3 convolution layers  |        0.036         |  99.35%  |\n",
      "| CNN w/ 5 convolution layers  |        0.025         |  99.52%  |\n",
      "| CNN w/ 7 convolution layers  |        0.032         |  99.42%  |\n",
      "+------------------------------+----------------------+----------+\n"
     ]
    }
   ],
   "source": [
    "# We will store the results in a single table to get \n",
    "\n",
    "import prettytable\n",
    "from prettytable import PrettyTable\n",
    "\n",
    "list1 = ['CNN w/ 3 convolution layers ','CNN w/ 5 convolution layers','CNN w/ 7 convolution layers']\n",
    "list2 = ['0.036','0.025','0.032']\n",
    "list3 = ['99.35%','99.52%','99.42%']\n",
    "\n",
    "\n",
    "print('The scores for the different CNN architectures are:')\n",
    "table = PrettyTable(['CNN Architecture','Multi-Class log loss','Accuracy'])\n",
    "for x in range(0,3):\n",
    "    table.add_row([list1[x],list2[x],list3[x]])\n",
    "                                       \n",
    "print(table) "
   ]
  },
  {
   "cell_type": "markdown",
   "metadata": {
    "id": "9ceNSM2rH47b"
   },
   "source": [
    "**OBSERVATION:**  From our plots of train and test sets we can observe that for all the architectures, beyond 10 epochs the model performance on the test data reduces by a small margin.  The model performance increases for our 5 layered CNN architecture but, it drops as we increase the number of convolution layers from 5 to7."
   ]
  },
  {
   "cell_type": "markdown",
   "metadata": {
    "id": "BByisco9H6z5"
   },
   "source": [
    "**CONCLUSION:** Of the 12 different architectures that we have tried we are getting the minimum multiclass log loss and maximum accuracy for CNN having 5 convolution layers with batch normalization and alternate dropouts."
   ]
  }
 ],
 "metadata": {
  "accelerator": "GPU",
  "colab": {
   "collapsed_sections": [],
   "name": "Abhishek_CNNArchitecture_Assignment.ipynb",
   "provenance": []
  },
  "kernelspec": {
   "display_name": "Python 3",
   "language": "python",
   "name": "python3"
  },
  "language_info": {
   "codemirror_mode": {
    "name": "ipython",
    "version": 3
   },
   "file_extension": ".py",
   "mimetype": "text/x-python",
   "name": "python",
   "nbconvert_exporter": "python",
   "pygments_lexer": "ipython3",
   "version": "3.7.6"
  }
 },
 "nbformat": 4,
 "nbformat_minor": 1
}
